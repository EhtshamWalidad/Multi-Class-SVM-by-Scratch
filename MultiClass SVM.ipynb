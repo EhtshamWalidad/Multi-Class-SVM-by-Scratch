{
  "nbformat": 4,
  "nbformat_minor": 0,
  "metadata": {
    "colab": {
      "provenance": []
    },
    "kernelspec": {
      "name": "python3",
      "display_name": "Python 3"
    },
    "language_info": {
      "name": "python"
    }
  },
  "cells": [
    {
      "cell_type": "code",
      "source": [
        "import numpy as np\n",
        "\n",
        "class NeuralNetwork:\n",
        "    def __init__(self, num_layers, neurons):\n",
        "        self.num_layers = num_layers\n",
        "        self.neurons = neurons\n",
        "        self.weights = [np.random.randn(neurons[i], neurons[i+1]) / np.sqrt(neurons[i]) for i in range(num_layers - 1)]\n",
        "        self.biases = [np.zeros((1, neurons)) for neurons in neurons[1:]]  #Initialize biases with zeros for each layer\n",
        "\n",
        "    def relu(self, Z):  #Relu\n",
        "        return np.maximum(0, Z)\n",
        "\n",
        "    def svm_loss(self, scores, y):\n",
        "        num_samples = scores.shape[0]\n",
        "        correct_scores = scores[np.arange(num_samples), y]\n",
        "        margins = np.maximum(0, scores - correct_scores[:, np.newaxis] + 1.0)\n",
        "        margins[np.arange(num_samples), y] = 0\n",
        "        loss = np.sum(margins) / num_samples\n",
        "        margins[margins > 0] = 1  # Set margins as upper derivatives\n",
        "        margins[np.arange(num_samples), y] = -np.sum(margins, axis=1)  # Subtract the number of positive margins for correct classes\n",
        "        return loss, margins\n",
        "\n",
        "    def forward_pass(self, X):\n",
        "        activations = [X]\n",
        "        for i in range(self.num_layers - 1):\n",
        "            Z = np.dot(activations[i], self.weights[i]) + self.biases[i]\n",
        "            A = self.relu(Z)\n",
        "            activations.append(A)\n",
        "        return activations\n",
        "\n",
        "    def train(self, X_train, y_train, learning_rate=0.01, num_epochs=1000):\n",
        "        for epoch in range(num_epochs):\n",
        "            activations = self.forward_pass(X_train)\n",
        "            scores = activations[-1]\n",
        "            loss, margins = self.svm_loss(scores, y_train)\n",
        "\n",
        "            # Backpropagation\n",
        "            f = margins  # Use margins as upper derivatives\n",
        "            num_samples = X_train.shape[0]\n",
        "            f = f / num_samples  # Normalize gradients\n",
        "            for i in range(self.num_layers - 2, -1, -1):\n",
        "                dZ = f\n",
        "                dZ[activations[i + 1] <= 0] = 0  # ReLU derivative\n",
        "                dW = np.dot(activations[i].T, dZ)\n",
        "                db = np.sum(dZ, axis=0, keepdims=True)\n",
        "                f = np.dot(dZ, self.weights[i].T)\n",
        "                self.weights[i] -= learning_rate * dW\n",
        "                self.biases[i] -= learning_rate * db\n",
        "\n",
        "            if epoch % 100 == 0:\n",
        "                print(f\"Epoch {epoch}, Loss: {loss}\")\n",
        "\n",
        "    def predict(self, X_test):  #Predicts the classess\n",
        "        activations = self.forward_pass(X_test)\n",
        "        scores = activations[-1]\n",
        "        predicted_class = np.argmax(scores, axis=1)\n",
        "        return predicted_class\n"
      ],
      "metadata": {
        "id": "8Kkmaay1BQLB"
      },
      "execution_count": null,
      "outputs": []
    },
    {
      "cell_type": "code",
      "source": [
        "from sklearn.datasets import load_iris\n",
        "from sklearn.model_selection import train_test_split\n",
        "from sklearn.preprocessing import StandardScaler\n",
        "from sklearn.metrics import accuracy_score\n",
        "\n",
        "# Load the Iris dataset\n",
        "iris = load_iris()\n",
        "X = iris.data\n",
        "y = iris.target\n",
        "\n",
        "# Split the dataset into training and testing sets\n",
        "X_train, X_test, y_train, y_test = train_test_split(X, y, test_size=0.3, random_state=42)\n",
        "\n",
        "# Standardize the features\n",
        "scaler = StandardScaler()\n",
        "X_train = scaler.fit_transform(X_train)\n",
        "X_test = scaler.transform(X_test)\n",
        "\n",
        "# Define the neural network architecture\n",
        "num_layers = 3\n",
        "neurons = [X_train.shape[1], 10, len(set(y_train))]  # Input layer size, hidden layer size, output layer size\n",
        "\n",
        "# Create and train the neural network\n",
        "nn = NeuralNetwork(num_layers, neurons)\n",
        "nn.train(X_train, y_train, learning_rate=0.01, num_epochs=1000)\n",
        "\n",
        "# Make predictions on the training and testing sets\n",
        "y_train_pred = nn.predict(X_train)\n",
        "y_test_pred = nn.predict(X_test)\n",
        "\n",
        "# Calculate accuracy\n",
        "train_accuracy = accuracy_score(y_train, y_train_pred)\n",
        "test_accuracy = accuracy_score(y_test, y_test_pred)\n",
        "\n",
        "print(\"Training Accuracy:\", train_accuracy)\n",
        "print(\"Testing Accuracy:\", test_accuracy)\n"
      ],
      "metadata": {
        "colab": {
          "base_uri": "https://localhost:8080/"
        },
        "id": "GZQQFUugBsvI",
        "outputId": "eacd07bb-ccfb-456d-92fa-9d5808042c7e"
      },
      "execution_count": null,
      "outputs": [
        {
          "output_type": "stream",
          "name": "stdout",
          "text": [
            "Epoch 0, Loss: 1.0610052529442877\n",
            "Epoch 100, Loss: 0.41621483237543483\n",
            "Epoch 200, Loss: 0.34392124292943854\n",
            "Epoch 300, Loss: 0.28441504663205414\n",
            "Epoch 400, Loss: 0.22515881799314882\n",
            "Epoch 500, Loss: 0.18506093246863775\n",
            "Epoch 600, Loss: 0.16323362636873043\n",
            "Epoch 700, Loss: 0.14593348669420841\n",
            "Epoch 800, Loss: 0.13530741048928016\n",
            "Epoch 900, Loss: 0.12521844398701518\n",
            "Training Accuracy: 0.9523809523809523\n",
            "Testing Accuracy: 0.9777777777777777\n"
          ]
        }
      ]
    },
    {
      "cell_type": "code",
      "source": [],
      "metadata": {
        "id": "OJmRYCeOBvK-"
      },
      "execution_count": null,
      "outputs": []
    }
  ]
}